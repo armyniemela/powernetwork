{
 "cells": [
  {
   "cell_type": "markdown",
   "id": "914b1b6a-3094-4998-85d5-1db5614f5f94",
   "metadata": {},
   "source": [
    "In this notebook I'll clean my csv-data and make it ready for doing a networkchart"
   ]
  },
  {
   "cell_type": "code",
   "execution_count": 161,
   "id": "c00dd0d9-fd0c-4148-845a-bd0f6c29d3b9",
   "metadata": {},
   "outputs": [],
   "source": [
    "import requests\n",
    "import pandas as pd"
   ]
  },
  {
   "cell_type": "code",
   "execution_count": 162,
   "id": "a382baea-445a-47e6-b7f0-e2f01e06e56d",
   "metadata": {},
   "outputs": [],
   "source": [
    "# cheking my data\n",
    "\n",
    "list_df = pd.read_csv(\"companyname.csv\")\n",
    "# list_df.head()"
   ]
  },
  {
   "cell_type": "code",
   "execution_count": 163,
   "id": "3b8a456a-6404-401a-bc8b-f5cc5550c302",
   "metadata": {},
   "outputs": [
    {
     "data": {
      "text/plain": [
       "personname     object\n",
       "role           object\n",
       "companyname    object\n",
       "marketvalue    object\n",
       "dtype: object"
      ]
     },
     "execution_count": 163,
     "metadata": {},
     "output_type": "execute_result"
    }
   ],
   "source": [
    "list_df.dtypes"
   ]
  },
  {
   "cell_type": "code",
   "execution_count": 164,
   "id": "4c780bd4-109b-4c74-855f-ac2675dd45dd",
   "metadata": {},
   "outputs": [],
   "source": [
    "list_df[\"companyname\"] = (\n",
    "    list_df[\"companyname\"]\n",
    "    .str.replace(\"Oy\", \"\")\n",
    "    .str.replace(\"Oyj\", \"\")\n",
    "    .str.replace(\"Bank\", \"\")\n",
    "    .str.replace(\"Group\", \"\")\n",
    "    .str.replace(\"Abp\", \"\")\n",
    "    .str.replace(\"AB\", \"\")\n",
    "    .str.replace(\"Ab\", \"\")\n",
    "    .str.replace(\"International\", \"\")\n",
    "    .str.replace(\"VMC\", \"\")\n",
    ")\n",
    "#list_df"
   ]
  },
  {
   "cell_type": "code",
   "execution_count": 165,
   "id": "8420a946-2cdf-404b-b268-d689040a7c5b",
   "metadata": {},
   "outputs": [],
   "source": [
    "list_df[\"companyname\"] = (\n",
    "    list_df[\"companyname\"]\n",
    "    .str.replace(\"j\", \"\")\n",
    ")\n",
    "#list_df"
   ]
  },
  {
   "cell_type": "code",
   "execution_count": 166,
   "id": "1a66c0a7-4502-4107-9226-2ffde15aa3a4",
   "metadata": {},
   "outputs": [],
   "source": [
    "list_df[\"companyname\"] = (\n",
    "    list_df[\"companyname\"]\n",
    "    .str.replace(\"EVRY\", \"evry\")\n",
    ")\n",
    "# list_df"
   ]
  },
  {
   "cell_type": "code",
   "execution_count": 167,
   "id": "2819b555-7ad8-4c66-a231-02fa3e80fa39",
   "metadata": {},
   "outputs": [],
   "source": [
    "# I want to know, on how many company board seats each person has.\n",
    "# Couldn't figure this out my self > asked ChatGPT\n",
    "\n",
    "person_companies = list_df.groupby('personname')['companyname'].apply(lambda x: ', '.join(x)).reset_index()\n",
    "person_companies.rename(columns={'companyname': 'companyboards'}, inplace=True)\n",
    "result_df = pd.merge(list_df, person_companies, on='personname', how='left')\n",
    "result_df = result_df[['personname', 'role', 'companyname', 'marketvalue', 'companyboards']].drop_duplicates()"
   ]
  },
  {
   "cell_type": "code",
   "execution_count": 168,
   "id": "a1517c9c-e594-4bc3-a3c2-c8650901e179",
   "metadata": {},
   "outputs": [],
   "source": [
    "#result_df.head(20)"
   ]
  },
  {
   "cell_type": "code",
   "execution_count": 169,
   "id": "90a22a98-5ad5-467a-b120-943ae276bc40",
   "metadata": {},
   "outputs": [
    {
     "data": {
      "text/html": [
       "<div>\n",
       "<style scoped>\n",
       "    .dataframe tbody tr th:only-of-type {\n",
       "        vertical-align: middle;\n",
       "    }\n",
       "\n",
       "    .dataframe tbody tr th {\n",
       "        vertical-align: top;\n",
       "    }\n",
       "\n",
       "    .dataframe thead th {\n",
       "        text-align: right;\n",
       "    }\n",
       "</style>\n",
       "<table border=\"1\" class=\"dataframe\">\n",
       "  <thead>\n",
       "    <tr style=\"text-align: right;\">\n",
       "      <th></th>\n",
       "      <th>personname</th>\n",
       "      <th>role</th>\n",
       "      <th>companyname</th>\n",
       "      <th>marketvalue</th>\n",
       "      <th>companyboards</th>\n",
       "    </tr>\n",
       "  </thead>\n",
       "  <tbody>\n",
       "    <tr>\n",
       "      <th>0</th>\n",
       "      <td>Matti Saastamoinen</td>\n",
       "      <td>Hallituksen jäsen</td>\n",
       "      <td>Gofore</td>\n",
       "      <td>357 834 176,15</td>\n",
       "      <td>Gofore</td>\n",
       "    </tr>\n",
       "    <tr>\n",
       "      <th>1</th>\n",
       "      <td>Thomas Slettemoen</td>\n",
       "      <td>Hallituksen jäsen</td>\n",
       "      <td>Tietoevry</td>\n",
       "      <td>2 193 245 278,92</td>\n",
       "      <td>Tietoevry</td>\n",
       "    </tr>\n",
       "    <tr>\n",
       "      <th>2</th>\n",
       "      <td>Anders Palklint</td>\n",
       "      <td>Hallituksen jäsen</td>\n",
       "      <td>Tietoevry</td>\n",
       "      <td>2 193 245 278,92</td>\n",
       "      <td>Tietoevry</td>\n",
       "    </tr>\n",
       "    <tr>\n",
       "      <th>3</th>\n",
       "      <td>Kasper Skovgaard Pedersen</td>\n",
       "      <td>Hallituksen jäsen</td>\n",
       "      <td>Nordea</td>\n",
       "      <td>38 175 846 731,55</td>\n",
       "      <td>Nordea</td>\n",
       "    </tr>\n",
       "    <tr>\n",
       "      <th>4</th>\n",
       "      <td>Arne Larsen</td>\n",
       "      <td>Hallituksen jäsen</td>\n",
       "      <td>Anora</td>\n",
       "      <td>335 065 975,04</td>\n",
       "      <td>Anora</td>\n",
       "    </tr>\n",
       "  </tbody>\n",
       "</table>\n",
       "</div>"
      ],
      "text/plain": [
       "                  personname               role companyname  \\\n",
       "0         Matti Saastamoinen  Hallituksen jäsen     Gofore    \n",
       "1          Thomas Slettemoen  Hallituksen jäsen  Tietoevry    \n",
       "2            Anders Palklint  Hallituksen jäsen  Tietoevry    \n",
       "3  Kasper Skovgaard Pedersen  Hallituksen jäsen    Nordea     \n",
       "4                Arne Larsen  Hallituksen jäsen     Anora     \n",
       "\n",
       "         marketvalue companyboards  \n",
       "0     357 834 176,15       Gofore   \n",
       "1   2 193 245 278,92    Tietoevry   \n",
       "2   2 193 245 278,92    Tietoevry   \n",
       "3  38 175 846 731,55      Nordea    \n",
       "4     335 065 975,04       Anora    "
      ]
     },
     "execution_count": 169,
     "metadata": {},
     "output_type": "execute_result"
    }
   ],
   "source": [
    "# drop one column and then some cleaning still. But I'm messing things up all the time!!\n",
    "\n",
    "# result_df = result_df.drop(columns=['companyname'])\n",
    "result_df.head()"
   ]
  },
  {
   "cell_type": "code",
   "execution_count": 170,
   "id": "eeaf090a-be92-4560-9b60-7d9d83928e42",
   "metadata": {},
   "outputs": [],
   "source": [
    "# result_df['companyboards'] = result_df['companyboards'].str.replace('SS', 'SSAB')"
   ]
  },
  {
   "cell_type": "code",
   "execution_count": 171,
   "id": "808d16cb-e20b-4322-97cc-367f55c2b39b",
   "metadata": {},
   "outputs": [],
   "source": [
    "# result_df['companyboards'] = result_df['companyboards'].str.replace('KH', 'KH Group')\n",
    "# result_df.head(50)"
   ]
  },
  {
   "cell_type": "code",
   "execution_count": 172,
   "id": "5ad28392-10da-4e80-a130-3dc0133997e5",
   "metadata": {},
   "outputs": [],
   "source": [
    "#result_df['marketvalue'] = result_df['marketvalue'].str.replace(' ', '')\n",
    "#result_df.head()"
   ]
  },
  {
   "cell_type": "code",
   "execution_count": 173,
   "id": "1ec5b18f-e637-4f5b-a3cb-14e7718bd600",
   "metadata": {},
   "outputs": [
    {
     "data": {
      "text/html": [
       "<div>\n",
       "<style scoped>\n",
       "    .dataframe tbody tr th:only-of-type {\n",
       "        vertical-align: middle;\n",
       "    }\n",
       "\n",
       "    .dataframe tbody tr th {\n",
       "        vertical-align: top;\n",
       "    }\n",
       "\n",
       "    .dataframe thead th {\n",
       "        text-align: right;\n",
       "    }\n",
       "</style>\n",
       "<table border=\"1\" class=\"dataframe\">\n",
       "  <thead>\n",
       "    <tr style=\"text-align: right;\">\n",
       "      <th></th>\n",
       "      <th>personname</th>\n",
       "      <th>role</th>\n",
       "      <th>companyname</th>\n",
       "      <th>marketvalue</th>\n",
       "      <th>companyboards</th>\n",
       "    </tr>\n",
       "  </thead>\n",
       "  <tbody>\n",
       "    <tr>\n",
       "      <th>0</th>\n",
       "      <td>Matti Saastamoinen</td>\n",
       "      <td>Hallituksen jäsen</td>\n",
       "      <td>Gofore</td>\n",
       "      <td>357 834 176,15</td>\n",
       "      <td>Gofore</td>\n",
       "    </tr>\n",
       "    <tr>\n",
       "      <th>1</th>\n",
       "      <td>Thomas Slettemoen</td>\n",
       "      <td>Hallituksen jäsen</td>\n",
       "      <td>Tietoevry</td>\n",
       "      <td>2 193 245 278,92</td>\n",
       "      <td>Tietoevry</td>\n",
       "    </tr>\n",
       "    <tr>\n",
       "      <th>2</th>\n",
       "      <td>Anders Palklint</td>\n",
       "      <td>Hallituksen jäsen</td>\n",
       "      <td>Tietoevry</td>\n",
       "      <td>2 193 245 278,92</td>\n",
       "      <td>Tietoevry</td>\n",
       "    </tr>\n",
       "    <tr>\n",
       "      <th>3</th>\n",
       "      <td>Kasper Skovgaard Pedersen</td>\n",
       "      <td>Hallituksen jäsen</td>\n",
       "      <td>Nordea</td>\n",
       "      <td>38 175 846 731,55</td>\n",
       "      <td>Nordea</td>\n",
       "    </tr>\n",
       "    <tr>\n",
       "      <th>4</th>\n",
       "      <td>Arne Larsen</td>\n",
       "      <td>Hallituksen jäsen</td>\n",
       "      <td>Anora</td>\n",
       "      <td>335 065 975,04</td>\n",
       "      <td>Anora</td>\n",
       "    </tr>\n",
       "  </tbody>\n",
       "</table>\n",
       "</div>"
      ],
      "text/plain": [
       "                  personname               role companyname  \\\n",
       "0         Matti Saastamoinen  Hallituksen jäsen     Gofore    \n",
       "1          Thomas Slettemoen  Hallituksen jäsen  Tietoevry    \n",
       "2            Anders Palklint  Hallituksen jäsen  Tietoevry    \n",
       "3  Kasper Skovgaard Pedersen  Hallituksen jäsen    Nordea     \n",
       "4                Arne Larsen  Hallituksen jäsen     Anora     \n",
       "\n",
       "         marketvalue companyboards  \n",
       "0     357 834 176,15       Gofore   \n",
       "1   2 193 245 278,92    Tietoevry   \n",
       "2   2 193 245 278,92    Tietoevry   \n",
       "3  38 175 846 731,55      Nordea    \n",
       "4     335 065 975,04       Anora    "
      ]
     },
     "execution_count": 173,
     "metadata": {},
     "output_type": "execute_result"
    }
   ],
   "source": [
    "# result_df[\"marketvalue\"] = (\n",
    "#    list_df[\"marketvalue\"]\n",
    "#    .str.replace(\"...\", \".\")\n",
    "# )\n",
    "result_df.head()"
   ]
  },
  {
   "cell_type": "code",
   "execution_count": 178,
   "id": "f4ee45f7-57c7-477a-b19e-5f805e2ae32c",
   "metadata": {},
   "outputs": [],
   "source": [
    "# result_df['marketvalue'] = result_df['marketvalue'].str.replace(r'\\s+', '', regex=True)\n",
    "# result_df['marketvalue'] = result_df['marketvalue'].str.replace(',', '.')\n",
    "# result_df['marketvalue'] = result_df['marketvalue'].astype(float)\n",
    "# result_df.dtypes"
   ]
  },
  {
   "cell_type": "code",
   "execution_count": 175,
   "id": "4574c956-8f28-4d57-a383-3c6cccc209a8",
   "metadata": {},
   "outputs": [
    {
     "data": {
      "text/html": [
       "<div>\n",
       "<style scoped>\n",
       "    .dataframe tbody tr th:only-of-type {\n",
       "        vertical-align: middle;\n",
       "    }\n",
       "\n",
       "    .dataframe tbody tr th {\n",
       "        vertical-align: top;\n",
       "    }\n",
       "\n",
       "    .dataframe thead th {\n",
       "        text-align: right;\n",
       "    }\n",
       "</style>\n",
       "<table border=\"1\" class=\"dataframe\">\n",
       "  <thead>\n",
       "    <tr style=\"text-align: right;\">\n",
       "      <th></th>\n",
       "      <th>personname</th>\n",
       "      <th>role</th>\n",
       "      <th>companyname</th>\n",
       "      <th>marketvalue</th>\n",
       "      <th>companyboards</th>\n",
       "    </tr>\n",
       "  </thead>\n",
       "  <tbody>\n",
       "    <tr>\n",
       "      <th>0</th>\n",
       "      <td>Matti Saastamoinen</td>\n",
       "      <td>Hallituksen jäsen</td>\n",
       "      <td>Gofore</td>\n",
       "      <td>3.578342e+08</td>\n",
       "      <td>Gofore</td>\n",
       "    </tr>\n",
       "    <tr>\n",
       "      <th>1</th>\n",
       "      <td>Thomas Slettemoen</td>\n",
       "      <td>Hallituksen jäsen</td>\n",
       "      <td>Tietoevry</td>\n",
       "      <td>2.193245e+09</td>\n",
       "      <td>Tietoevry</td>\n",
       "    </tr>\n",
       "    <tr>\n",
       "      <th>2</th>\n",
       "      <td>Anders Palklint</td>\n",
       "      <td>Hallituksen jäsen</td>\n",
       "      <td>Tietoevry</td>\n",
       "      <td>2.193245e+09</td>\n",
       "      <td>Tietoevry</td>\n",
       "    </tr>\n",
       "    <tr>\n",
       "      <th>3</th>\n",
       "      <td>Kasper Skovgaard Pedersen</td>\n",
       "      <td>Hallituksen jäsen</td>\n",
       "      <td>Nordea</td>\n",
       "      <td>3.817585e+10</td>\n",
       "      <td>Nordea</td>\n",
       "    </tr>\n",
       "    <tr>\n",
       "      <th>4</th>\n",
       "      <td>Arne Larsen</td>\n",
       "      <td>Hallituksen jäsen</td>\n",
       "      <td>Anora</td>\n",
       "      <td>3.350660e+08</td>\n",
       "      <td>Anora</td>\n",
       "    </tr>\n",
       "  </tbody>\n",
       "</table>\n",
       "</div>"
      ],
      "text/plain": [
       "                  personname               role companyname   marketvalue  \\\n",
       "0         Matti Saastamoinen  Hallituksen jäsen     Gofore   3.578342e+08   \n",
       "1          Thomas Slettemoen  Hallituksen jäsen  Tietoevry   2.193245e+09   \n",
       "2            Anders Palklint  Hallituksen jäsen  Tietoevry   2.193245e+09   \n",
       "3  Kasper Skovgaard Pedersen  Hallituksen jäsen    Nordea    3.817585e+10   \n",
       "4                Arne Larsen  Hallituksen jäsen     Anora    3.350660e+08   \n",
       "\n",
       "  companyboards  \n",
       "0       Gofore   \n",
       "1    Tietoevry   \n",
       "2    Tietoevry   \n",
       "3      Nordea    \n",
       "4       Anora    "
      ]
     },
     "execution_count": 175,
     "metadata": {},
     "output_type": "execute_result"
    }
   ],
   "source": [
    "result_df.head()"
   ]
  },
  {
   "cell_type": "code",
   "execution_count": 179,
   "id": "25e3a029-906f-485a-af3f-37e44f6cd099",
   "metadata": {},
   "outputs": [],
   "source": [
    "import numpy as np"
   ]
  },
  {
   "cell_type": "code",
   "execution_count": 180,
   "id": "427b4491-b4b3-4d64-b005-e0095ba06921",
   "metadata": {},
   "outputs": [],
   "source": [
    "result_df['marketvalue'] = np.ceil(result_df['marketvalue']).astype(int)"
   ]
  },
  {
   "cell_type": "code",
   "execution_count": 181,
   "id": "2a875042-15bd-4629-a91d-eadfaaf5e445",
   "metadata": {},
   "outputs": [
    {
     "data": {
      "text/html": [
       "<div>\n",
       "<style scoped>\n",
       "    .dataframe tbody tr th:only-of-type {\n",
       "        vertical-align: middle;\n",
       "    }\n",
       "\n",
       "    .dataframe tbody tr th {\n",
       "        vertical-align: top;\n",
       "    }\n",
       "\n",
       "    .dataframe thead th {\n",
       "        text-align: right;\n",
       "    }\n",
       "</style>\n",
       "<table border=\"1\" class=\"dataframe\">\n",
       "  <thead>\n",
       "    <tr style=\"text-align: right;\">\n",
       "      <th></th>\n",
       "      <th>personname</th>\n",
       "      <th>role</th>\n",
       "      <th>companyname</th>\n",
       "      <th>marketvalue</th>\n",
       "      <th>companyboards</th>\n",
       "    </tr>\n",
       "  </thead>\n",
       "  <tbody>\n",
       "    <tr>\n",
       "      <th>0</th>\n",
       "      <td>Matti Saastamoinen</td>\n",
       "      <td>Hallituksen jäsen</td>\n",
       "      <td>Gofore</td>\n",
       "      <td>357834177</td>\n",
       "      <td>Gofore</td>\n",
       "    </tr>\n",
       "    <tr>\n",
       "      <th>1</th>\n",
       "      <td>Thomas Slettemoen</td>\n",
       "      <td>Hallituksen jäsen</td>\n",
       "      <td>Tietoevry</td>\n",
       "      <td>2193245279</td>\n",
       "      <td>Tietoevry</td>\n",
       "    </tr>\n",
       "    <tr>\n",
       "      <th>2</th>\n",
       "      <td>Anders Palklint</td>\n",
       "      <td>Hallituksen jäsen</td>\n",
       "      <td>Tietoevry</td>\n",
       "      <td>2193245279</td>\n",
       "      <td>Tietoevry</td>\n",
       "    </tr>\n",
       "    <tr>\n",
       "      <th>3</th>\n",
       "      <td>Kasper Skovgaard Pedersen</td>\n",
       "      <td>Hallituksen jäsen</td>\n",
       "      <td>Nordea</td>\n",
       "      <td>38175846732</td>\n",
       "      <td>Nordea</td>\n",
       "    </tr>\n",
       "    <tr>\n",
       "      <th>4</th>\n",
       "      <td>Arne Larsen</td>\n",
       "      <td>Hallituksen jäsen</td>\n",
       "      <td>Anora</td>\n",
       "      <td>335065976</td>\n",
       "      <td>Anora</td>\n",
       "    </tr>\n",
       "  </tbody>\n",
       "</table>\n",
       "</div>"
      ],
      "text/plain": [
       "                  personname               role companyname  marketvalue  \\\n",
       "0         Matti Saastamoinen  Hallituksen jäsen     Gofore     357834177   \n",
       "1          Thomas Slettemoen  Hallituksen jäsen  Tietoevry    2193245279   \n",
       "2            Anders Palklint  Hallituksen jäsen  Tietoevry    2193245279   \n",
       "3  Kasper Skovgaard Pedersen  Hallituksen jäsen    Nordea    38175846732   \n",
       "4                Arne Larsen  Hallituksen jäsen     Anora      335065976   \n",
       "\n",
       "  companyboards  \n",
       "0       Gofore   \n",
       "1    Tietoevry   \n",
       "2    Tietoevry   \n",
       "3      Nordea    \n",
       "4       Anora    "
      ]
     },
     "execution_count": 181,
     "metadata": {},
     "output_type": "execute_result"
    }
   ],
   "source": [
    "result_df.head()"
   ]
  },
  {
   "cell_type": "code",
   "execution_count": 185,
   "id": "9b3a1cb0-923f-430e-9029-3684f37e8218",
   "metadata": {},
   "outputs": [],
   "source": [
    "result_df = result_df.drop(columns=['companyname', 'role'])"
   ]
  },
  {
   "cell_type": "code",
   "execution_count": 186,
   "id": "672210d7-fff4-4b47-8392-48c0729b85b7",
   "metadata": {},
   "outputs": [
    {
     "data": {
      "text/html": [
       "<div>\n",
       "<style scoped>\n",
       "    .dataframe tbody tr th:only-of-type {\n",
       "        vertical-align: middle;\n",
       "    }\n",
       "\n",
       "    .dataframe tbody tr th {\n",
       "        vertical-align: top;\n",
       "    }\n",
       "\n",
       "    .dataframe thead th {\n",
       "        text-align: right;\n",
       "    }\n",
       "</style>\n",
       "<table border=\"1\" class=\"dataframe\">\n",
       "  <thead>\n",
       "    <tr style=\"text-align: right;\">\n",
       "      <th></th>\n",
       "      <th>personname</th>\n",
       "      <th>marketvalue</th>\n",
       "      <th>companyboards</th>\n",
       "    </tr>\n",
       "  </thead>\n",
       "  <tbody>\n",
       "    <tr>\n",
       "      <th>0</th>\n",
       "      <td>Matti Saastamoinen</td>\n",
       "      <td>357834177</td>\n",
       "      <td>Gofore</td>\n",
       "    </tr>\n",
       "    <tr>\n",
       "      <th>1</th>\n",
       "      <td>Thomas Slettemoen</td>\n",
       "      <td>2193245279</td>\n",
       "      <td>Tietoevry</td>\n",
       "    </tr>\n",
       "    <tr>\n",
       "      <th>2</th>\n",
       "      <td>Anders Palklint</td>\n",
       "      <td>2193245279</td>\n",
       "      <td>Tietoevry</td>\n",
       "    </tr>\n",
       "    <tr>\n",
       "      <th>3</th>\n",
       "      <td>Kasper Skovgaard Pedersen</td>\n",
       "      <td>38175846732</td>\n",
       "      <td>Nordea</td>\n",
       "    </tr>\n",
       "    <tr>\n",
       "      <th>4</th>\n",
       "      <td>Arne Larsen</td>\n",
       "      <td>335065976</td>\n",
       "      <td>Anora</td>\n",
       "    </tr>\n",
       "  </tbody>\n",
       "</table>\n",
       "</div>"
      ],
      "text/plain": [
       "                  personname  marketvalue companyboards\n",
       "0         Matti Saastamoinen    357834177       Gofore \n",
       "1          Thomas Slettemoen   2193245279    Tietoevry \n",
       "2            Anders Palklint   2193245279    Tietoevry \n",
       "3  Kasper Skovgaard Pedersen  38175846732      Nordea  \n",
       "4                Arne Larsen    335065976       Anora  "
      ]
     },
     "execution_count": 186,
     "metadata": {},
     "output_type": "execute_result"
    }
   ],
   "source": [
    "result_df.head()"
   ]
  },
  {
   "cell_type": "code",
   "execution_count": 187,
   "id": "57d18450-55c0-42f6-80ca-2b4157365301",
   "metadata": {},
   "outputs": [
    {
     "data": {
      "text/html": [
       "<a href='result.csv' target='_blank'>result.csv</a><br>"
      ],
      "text/plain": [
       "/Users/arminiemela/Desktop/networkproject/result.csv"
      ]
     },
     "execution_count": 187,
     "metadata": {},
     "output_type": "execute_result"
    }
   ],
   "source": [
    "# csv_file_path = 'result.csv'\n",
    "# result_df.to_csv(csv_file_path, index=False)\n",
    "# from IPython.display import FileLink\n",
    "# FileLink(csv_file_path)"
   ]
  },
  {
   "cell_type": "code",
   "execution_count": null,
   "id": "77597eed-1042-4473-9797-feceab2e01f6",
   "metadata": {},
   "outputs": [],
   "source": []
  }
 ],
 "metadata": {
  "kernelspec": {
   "display_name": "Python 3 (ipykernel)",
   "language": "python",
   "name": "python3"
  },
  "language_info": {
   "codemirror_mode": {
    "name": "ipython",
    "version": 3
   },
   "file_extension": ".py",
   "mimetype": "text/x-python",
   "name": "python",
   "nbconvert_exporter": "python",
   "pygments_lexer": "ipython3",
   "version": "3.11.8"
  }
 },
 "nbformat": 4,
 "nbformat_minor": 5
}

{
 "cells": [
  {
   "cell_type": "markdown",
   "id": "a4264ea3-1450-4838-9ce5-b3799db5c1c9",
   "metadata": {},
   "source": [
    "In this notebook I will clean my powerseats.csv and clean it before making a svg"
   ]
  },
  {
   "cell_type": "code",
   "execution_count": 33,
   "id": "c15d06e2-f04c-4ef7-b796-3064f1902cf0",
   "metadata": {},
   "outputs": [],
   "source": [
    "import requests"
   ]
  },
  {
   "cell_type": "code",
   "execution_count": 34,
   "id": "9ef666cd-8901-4205-a121-8ee0b3060107",
   "metadata": {},
   "outputs": [],
   "source": [
    "import pandas as pd"
   ]
  },
  {
   "cell_type": "code",
   "execution_count": 35,
   "id": "ebcb6ae8-4f88-47db-96e3-c77d1b40ffde",
   "metadata": {},
   "outputs": [
    {
     "data": {
      "text/html": [
       "<div>\n",
       "<style scoped>\n",
       "    .dataframe tbody tr th:only-of-type {\n",
       "        vertical-align: middle;\n",
       "    }\n",
       "\n",
       "    .dataframe tbody tr th {\n",
       "        vertical-align: top;\n",
       "    }\n",
       "\n",
       "    .dataframe thead th {\n",
       "        text-align: right;\n",
       "    }\n",
       "</style>\n",
       "<table border=\"1\" class=\"dataframe\">\n",
       "  <thead>\n",
       "    <tr style=\"text-align: right;\">\n",
       "      <th></th>\n",
       "      <th>Hallitukset ja tj:t vallan verkostoon 23.4.2024</th>\n",
       "      <th>Unnamed: 1</th>\n",
       "    </tr>\n",
       "  </thead>\n",
       "  <tbody>\n",
       "    <tr>\n",
       "      <th>0</th>\n",
       "      <td>NaN</td>\n",
       "      <td>NaN</td>\n",
       "    </tr>\n",
       "    <tr>\n",
       "      <th>1</th>\n",
       "      <td>Row Labels</td>\n",
       "      <td>Count of personName</td>\n",
       "    </tr>\n",
       "    <tr>\n",
       "      <th>2</th>\n",
       "      <td>Risto Murto</td>\n",
       "      <td>2</td>\n",
       "    </tr>\n",
       "    <tr>\n",
       "      <th>3</th>\n",
       "      <td>Arja Talma</td>\n",
       "      <td>4</td>\n",
       "    </tr>\n",
       "    <tr>\n",
       "      <th>4</th>\n",
       "      <td>Frank Vang-Jensen</td>\n",
       "      <td>1</td>\n",
       "    </tr>\n",
       "  </tbody>\n",
       "</table>\n",
       "</div>"
      ],
      "text/plain": [
       "  Hallitukset ja tj:t vallan verkostoon 23.4.2024           Unnamed: 1\n",
       "0                                             NaN                  NaN\n",
       "1                                      Row Labels  Count of personName\n",
       "2                                     Risto Murto                    2\n",
       "3                                      Arja Talma                    4\n",
       "4                               Frank Vang-Jensen                    1"
      ]
     },
     "execution_count": 35,
     "metadata": {},
     "output_type": "execute_result"
    }
   ],
   "source": [
    "pp_df = pd.read_csv(\"powerseats.csv\")\n",
    "pp_df.dtypes\n",
    "pp_df.head()"
   ]
  },
  {
   "cell_type": "code",
   "execution_count": 36,
   "id": "10418cb4-0460-4d60-9834-75ed390ad19a",
   "metadata": {},
   "outputs": [
    {
     "data": {
      "text/html": [
       "<div>\n",
       "<style scoped>\n",
       "    .dataframe tbody tr th:only-of-type {\n",
       "        vertical-align: middle;\n",
       "    }\n",
       "\n",
       "    .dataframe tbody tr th {\n",
       "        vertical-align: top;\n",
       "    }\n",
       "\n",
       "    .dataframe thead th {\n",
       "        text-align: right;\n",
       "    }\n",
       "</style>\n",
       "<table border=\"1\" class=\"dataframe\">\n",
       "  <thead>\n",
       "    <tr style=\"text-align: right;\">\n",
       "      <th></th>\n",
       "      <th>Names</th>\n",
       "      <th>Unnamed: 1</th>\n",
       "    </tr>\n",
       "  </thead>\n",
       "  <tbody>\n",
       "    <tr>\n",
       "      <th>0</th>\n",
       "      <td>NaN</td>\n",
       "      <td>NaN</td>\n",
       "    </tr>\n",
       "    <tr>\n",
       "      <th>1</th>\n",
       "      <td>Row Labels</td>\n",
       "      <td>Count of personName</td>\n",
       "    </tr>\n",
       "    <tr>\n",
       "      <th>2</th>\n",
       "      <td>Risto Murto</td>\n",
       "      <td>2</td>\n",
       "    </tr>\n",
       "    <tr>\n",
       "      <th>3</th>\n",
       "      <td>Arja Talma</td>\n",
       "      <td>4</td>\n",
       "    </tr>\n",
       "    <tr>\n",
       "      <th>4</th>\n",
       "      <td>Frank Vang-Jensen</td>\n",
       "      <td>1</td>\n",
       "    </tr>\n",
       "  </tbody>\n",
       "</table>\n",
       "</div>"
      ],
      "text/plain": [
       "               Names           Unnamed: 1\n",
       "0                NaN                  NaN\n",
       "1         Row Labels  Count of personName\n",
       "2        Risto Murto                    2\n",
       "3         Arja Talma                    4\n",
       "4  Frank Vang-Jensen                    1"
      ]
     },
     "execution_count": 36,
     "metadata": {},
     "output_type": "execute_result"
    }
   ],
   "source": [
    "pp_df.rename(columns={'Hallitukset ja tj:t vallan verkostoon 23.4.2024': 'Names'}, inplace=True)\n",
    "pp_df.head()"
   ]
  },
  {
   "cell_type": "code",
   "execution_count": 37,
   "id": "1007feb2-2d36-4847-aef5-19b96625a289",
   "metadata": {},
   "outputs": [
    {
     "data": {
      "text/html": [
       "<div>\n",
       "<style scoped>\n",
       "    .dataframe tbody tr th:only-of-type {\n",
       "        vertical-align: middle;\n",
       "    }\n",
       "\n",
       "    .dataframe tbody tr th {\n",
       "        vertical-align: top;\n",
       "    }\n",
       "\n",
       "    .dataframe thead th {\n",
       "        text-align: right;\n",
       "    }\n",
       "</style>\n",
       "<table border=\"1\" class=\"dataframe\">\n",
       "  <thead>\n",
       "    <tr style=\"text-align: right;\">\n",
       "      <th></th>\n",
       "      <th>Names</th>\n",
       "      <th>Boardseats</th>\n",
       "    </tr>\n",
       "  </thead>\n",
       "  <tbody>\n",
       "    <tr>\n",
       "      <th>0</th>\n",
       "      <td>NaN</td>\n",
       "      <td>NaN</td>\n",
       "    </tr>\n",
       "    <tr>\n",
       "      <th>1</th>\n",
       "      <td>Row Labels</td>\n",
       "      <td>Count of personName</td>\n",
       "    </tr>\n",
       "    <tr>\n",
       "      <th>2</th>\n",
       "      <td>Risto Murto</td>\n",
       "      <td>2</td>\n",
       "    </tr>\n",
       "    <tr>\n",
       "      <th>3</th>\n",
       "      <td>Arja Talma</td>\n",
       "      <td>4</td>\n",
       "    </tr>\n",
       "    <tr>\n",
       "      <th>4</th>\n",
       "      <td>Frank Vang-Jensen</td>\n",
       "      <td>1</td>\n",
       "    </tr>\n",
       "  </tbody>\n",
       "</table>\n",
       "</div>"
      ],
      "text/plain": [
       "               Names           Boardseats\n",
       "0                NaN                  NaN\n",
       "1         Row Labels  Count of personName\n",
       "2        Risto Murto                    2\n",
       "3         Arja Talma                    4\n",
       "4  Frank Vang-Jensen                    1"
      ]
     },
     "execution_count": 37,
     "metadata": {},
     "output_type": "execute_result"
    }
   ],
   "source": [
    "pp_df.rename(columns={'Unnamed: 1': 'Boardseats'}, inplace=True)\n",
    "pp_df.head()"
   ]
  },
  {
   "cell_type": "code",
   "execution_count": 38,
   "id": "94438242-3c79-4eb5-934e-e1437096040c",
   "metadata": {},
   "outputs": [
    {
     "data": {
      "text/html": [
       "<div>\n",
       "<style scoped>\n",
       "    .dataframe tbody tr th:only-of-type {\n",
       "        vertical-align: middle;\n",
       "    }\n",
       "\n",
       "    .dataframe tbody tr th {\n",
       "        vertical-align: top;\n",
       "    }\n",
       "\n",
       "    .dataframe thead th {\n",
       "        text-align: right;\n",
       "    }\n",
       "</style>\n",
       "<table border=\"1\" class=\"dataframe\">\n",
       "  <thead>\n",
       "    <tr style=\"text-align: right;\">\n",
       "      <th></th>\n",
       "      <th>Names</th>\n",
       "      <th>Boardseats</th>\n",
       "    </tr>\n",
       "  </thead>\n",
       "  <tbody>\n",
       "    <tr>\n",
       "      <th>0</th>\n",
       "      <td>Risto Murto</td>\n",
       "      <td>2</td>\n",
       "    </tr>\n",
       "    <tr>\n",
       "      <th>1</th>\n",
       "      <td>Arja Talma</td>\n",
       "      <td>4</td>\n",
       "    </tr>\n",
       "    <tr>\n",
       "      <th>2</th>\n",
       "      <td>Frank Vang-Jensen</td>\n",
       "      <td>1</td>\n",
       "    </tr>\n",
       "    <tr>\n",
       "      <th>3</th>\n",
       "      <td>Gerhard Olsson</td>\n",
       "      <td>1</td>\n",
       "    </tr>\n",
       "    <tr>\n",
       "      <th>4</th>\n",
       "      <td>Hans Christian  Riise</td>\n",
       "      <td>1</td>\n",
       "    </tr>\n",
       "  </tbody>\n",
       "</table>\n",
       "</div>"
      ],
      "text/plain": [
       "                   Names Boardseats\n",
       "0            Risto Murto          2\n",
       "1             Arja Talma          4\n",
       "2      Frank Vang-Jensen          1\n",
       "3         Gerhard Olsson          1\n",
       "4  Hans Christian  Riise          1"
      ]
     },
     "execution_count": 38,
     "metadata": {},
     "output_type": "execute_result"
    }
   ],
   "source": [
    "pp_df = pp_df.drop([0, 1])\n",
    "pp_df.reset_index(drop=True, inplace=True)\n",
    "pp_df.head()"
   ]
  },
  {
   "cell_type": "code",
   "execution_count": 55,
   "id": "463b2183-c465-4044-8ebf-60c3c5208457",
   "metadata": {},
   "outputs": [
    {
     "name": "stdout",
     "output_type": "stream",
     "text": [
      "Number of unique person names: 1144\n",
      "Unique person names: ['Anne Koutonen' 'Anni Ronkainen' 'Leena Niemistö' ... 'Leena Vainiomäki'\n",
      " 'Sami Laine' 'Mika Metsämäki']\n"
     ]
    }
   ],
   "source": [
    "unique_names = pp_df['Names'].unique()\n",
    "num_unique_names = len(unique_names)\n",
    "print(f\"Number of unique person names: {num_unique_names}\")\n",
    "print(\"Unique person names:\", unique_names)"
   ]
  },
  {
   "cell_type": "code",
   "execution_count": 39,
   "id": "3cf308a8-7485-4d73-9071-dad9b3cdd1d9",
   "metadata": {},
   "outputs": [
    {
     "data": {
      "text/plain": [
       "Names         object\n",
       "Boardseats     int64\n",
       "dtype: object"
      ]
     },
     "execution_count": 39,
     "metadata": {},
     "output_type": "execute_result"
    }
   ],
   "source": [
    "pp_df['Boardseats'] = pp_df['Boardseats'].astype(int)\n",
    "pp_df.dtypes"
   ]
  },
  {
   "cell_type": "code",
   "execution_count": 40,
   "id": "2022e47b-4bdd-4aa5-ab6d-00c309f0baa7",
   "metadata": {},
   "outputs": [
    {
     "data": {
      "text/plain": [
       "Boardseats\n",
       "1    985\n",
       "2    125\n",
       "3     28\n",
       "4      3\n",
       "5      3\n",
       "Name: count, dtype: int64"
      ]
     },
     "execution_count": 40,
     "metadata": {},
     "output_type": "execute_result"
    }
   ],
   "source": [
    "pp_df.groupby('Boardseats').Boardseats.value_counts().sort_values(ascending=False)"
   ]
  },
  {
   "cell_type": "code",
   "execution_count": 41,
   "id": "740c8ab6-9076-4282-834f-1c5483f5435f",
   "metadata": {},
   "outputs": [
    {
     "name": "stdout",
     "output_type": "stream",
     "text": [
      "Total number of Boardseats: 1346\n"
     ]
    }
   ],
   "source": [
    "boardseats = pp_df['Boardseats'].sum()\n",
    "\n",
    "print(f'Total number of Boardseats: {boardseats}')"
   ]
  },
  {
   "cell_type": "code",
   "execution_count": 42,
   "id": "0ad53a67-8ff8-4c09-b2e9-ed3d63443ec2",
   "metadata": {},
   "outputs": [
    {
     "data": {
      "text/html": [
       "<div>\n",
       "<style scoped>\n",
       "    .dataframe tbody tr th:only-of-type {\n",
       "        vertical-align: middle;\n",
       "    }\n",
       "\n",
       "    .dataframe tbody tr th {\n",
       "        vertical-align: top;\n",
       "    }\n",
       "\n",
       "    .dataframe thead th {\n",
       "        text-align: right;\n",
       "    }\n",
       "</style>\n",
       "<table border=\"1\" class=\"dataframe\">\n",
       "  <thead>\n",
       "    <tr style=\"text-align: right;\">\n",
       "      <th></th>\n",
       "      <th>Names</th>\n",
       "      <th>Boardseats</th>\n",
       "    </tr>\n",
       "  </thead>\n",
       "  <tbody>\n",
       "    <tr>\n",
       "      <th>196</th>\n",
       "      <td>Anne Koutonen</td>\n",
       "      <td>5</td>\n",
       "    </tr>\n",
       "    <tr>\n",
       "      <th>385</th>\n",
       "      <td>Anni Ronkainen</td>\n",
       "      <td>5</td>\n",
       "    </tr>\n",
       "    <tr>\n",
       "      <th>363</th>\n",
       "      <td>Leena Niemistö</td>\n",
       "      <td>5</td>\n",
       "    </tr>\n",
       "    <tr>\n",
       "      <th>230</th>\n",
       "      <td>Mammu Kaario</td>\n",
       "      <td>4</td>\n",
       "    </tr>\n",
       "    <tr>\n",
       "      <th>189</th>\n",
       "      <td>Robert Ingman</td>\n",
       "      <td>4</td>\n",
       "    </tr>\n",
       "  </tbody>\n",
       "</table>\n",
       "</div>"
      ],
      "text/plain": [
       "              Names  Boardseats\n",
       "196   Anne Koutonen           5\n",
       "385  Anni Ronkainen           5\n",
       "363  Leena Niemistö           5\n",
       "230    Mammu Kaario           4\n",
       "189   Robert Ingman           4"
      ]
     },
     "execution_count": 42,
     "metadata": {},
     "output_type": "execute_result"
    }
   ],
   "source": [
    "pp_df = pp_df.sort_values(by='Boardseats', ascending=False)\n",
    "\n",
    "\n",
    "#pp_df.reset_index(drop=True, inplace=True)\n",
    "\n",
    "# Display the DataFrame to verify the change\n",
    "pp_df.head()"
   ]
  },
  {
   "cell_type": "code",
   "execution_count": 43,
   "id": "699c4dc9-90f0-47be-b5db-d1fbe766c4c8",
   "metadata": {},
   "outputs": [
    {
     "data": {
      "text/plain": [
       "1.1765734265734267"
      ]
     },
     "execution_count": 43,
     "metadata": {},
     "output_type": "execute_result"
    }
   ],
   "source": [
    "bs_average= pp_df['Boardseats'].mean()\n",
    "bs_average"
   ]
  },
  {
   "cell_type": "code",
   "execution_count": 44,
   "id": "a0ece586-282c-4a72-8899-c7d9f2d31bf5",
   "metadata": {},
   "outputs": [
    {
     "data": {
      "text/plain": [
       "1.18"
      ]
     },
     "execution_count": 44,
     "metadata": {},
     "output_type": "execute_result"
    }
   ],
   "source": [
    "bs_average_round = round(bs_average, 2)\n",
    "\n",
    "bs_average_round"
   ]
  },
  {
   "cell_type": "code",
   "execution_count": 45,
   "id": "67f00596-c9c4-4c07-a967-67d8ccf557a6",
   "metadata": {},
   "outputs": [
    {
     "data": {
      "text/plain": [
       "13.898601398601398"
      ]
     },
     "execution_count": 45,
     "metadata": {},
     "output_type": "execute_result"
    }
   ],
   "source": [
    "totalcount = pp_df['Boardseats'].count()\n",
    "\n",
    "# Number of rows where 'Boardseats' is greater than 1\n",
    "morethanone = pp_df[pp_df['Boardseats'] > 1].shape[0]\n",
    "\n",
    "# Calculate the percentage\n",
    "percentage_morethanone = (morethanone / totalcount) * 100\n",
    "\n",
    "# Display the result\n",
    "percentage_morethanone"
   ]
  },
  {
   "cell_type": "code",
   "execution_count": 50,
   "id": "e8bc1e9f-2ff5-45b8-871e-fdf88a7ce7f4",
   "metadata": {},
   "outputs": [
    {
     "name": "stdout",
     "output_type": "stream",
     "text": [
      "The percentage of 5 board seats is 1.11%\n"
     ]
    }
   ],
   "source": [
    "totalcount = pp_df['Boardseats'].sum()\n",
    "five_bs = pp_df[pp_df['Boardseats'] == 5]['Boardseats'].sum()\n",
    "percent_five_bs = (five_bs / totalcount) * 100\n",
    "\n",
    "print(f'The percentage of 5 board seats is {percent_five_bs:.2f}%')"
   ]
  },
  {
   "cell_type": "code",
   "execution_count": 51,
   "id": "19bad9d8-fe7f-4afa-86fc-8bf064766716",
   "metadata": {},
   "outputs": [
    {
     "name": "stdout",
     "output_type": "stream",
     "text": [
      "The percentage of 4 board seats is 0.89%\n"
     ]
    }
   ],
   "source": [
    "totalcount = pp_df['Boardseats'].sum()\n",
    "four_bs = pp_df[pp_df['Boardseats'] == 4]['Boardseats'].sum()\n",
    "percent_four_bs = (four_bs / totalcount) * 100\n",
    "\n",
    "print(f'The percentage of 4 board seats is {percent_four_bs:.2f}%')"
   ]
  },
  {
   "cell_type": "code",
   "execution_count": 52,
   "id": "2f009613-869e-4f36-ab3b-4a8037418855",
   "metadata": {},
   "outputs": [
    {
     "name": "stdout",
     "output_type": "stream",
     "text": [
      "The percentage of 3 board seats is 6.24%\n"
     ]
    }
   ],
   "source": [
    "totalcount = pp_df['Boardseats'].sum()\n",
    "three_bs = pp_df[pp_df['Boardseats'] == 3]['Boardseats'].sum()\n",
    "percent_three_bs = (three_bs / totalcount) * 100\n",
    "\n",
    "print(f'The percentage of 3 board seats is {percent_three_bs:.2f}%')"
   ]
  },
  {
   "cell_type": "code",
   "execution_count": 53,
   "id": "ae8ea22c-282b-4aeb-b984-85423f6c1e8a",
   "metadata": {},
   "outputs": [
    {
     "name": "stdout",
     "output_type": "stream",
     "text": [
      "The percentage of 2 board seats is 18.57%\n"
     ]
    }
   ],
   "source": [
    "totalcount = pp_df['Boardseats'].sum()\n",
    "two_bs = pp_df[pp_df['Boardseats'] == 2]['Boardseats'].sum()\n",
    "percent_two_bs = (two_bs / totalcount) * 100\n",
    "\n",
    "print(f'The percentage of 2 board seats is {percent_two_bs:.2f}%')"
   ]
  },
  {
   "cell_type": "code",
   "execution_count": 54,
   "id": "0d45b8a6-66db-4330-8156-eb9a4b7337ed",
   "metadata": {},
   "outputs": [
    {
     "name": "stdout",
     "output_type": "stream",
     "text": [
      "The percentage of 1 board seats is 73.18%\n"
     ]
    }
   ],
   "source": [
    "totalcount = pp_df['Boardseats'].sum()\n",
    "one_bs = pp_df[pp_df['Boardseats'] == 1]['Boardseats'].sum()\n",
    "percent_one_bs = (one_bs / totalcount) * 100\n",
    "\n",
    "print(f'The percentage of 1 board seats is {percent_one_bs:.2f}%')"
   ]
  },
  {
   "cell_type": "code",
   "execution_count": 46,
   "id": "36f85a14-9174-4e33-b3db-7c1eb838ca13",
   "metadata": {},
   "outputs": [
    {
     "data": {
      "text/html": [
       "<a href='powerpeople.csv' target='_blank'>powerpeople.csv</a><br>"
      ],
      "text/plain": [
       "/Users/arminiemela/Desktop/d3/powerpeople.csv"
      ]
     },
     "execution_count": 46,
     "metadata": {},
     "output_type": "execute_result"
    }
   ],
   "source": [
    "csv_file_path = 'powerpeople.csv'\n",
    "pp_df.to_csv(csv_file_path, index=False)\n",
    "from IPython.display import FileLink\n",
    "FileLink(csv_file_path)"
   ]
  },
  {
   "cell_type": "code",
   "execution_count": null,
   "id": "00c11399-71c9-4b9a-8da2-5a5831bbb9da",
   "metadata": {},
   "outputs": [],
   "source": []
  }
 ],
 "metadata": {
  "kernelspec": {
   "display_name": "Python 3 (ipykernel)",
   "language": "python",
   "name": "python3"
  },
  "language_info": {
   "codemirror_mode": {
    "name": "ipython",
    "version": 3
   },
   "file_extension": ".py",
   "mimetype": "text/x-python",
   "name": "python",
   "nbconvert_exporter": "python",
   "pygments_lexer": "ipython3",
   "version": "3.11.8"
  }
 },
 "nbformat": 4,
 "nbformat_minor": 5
}
